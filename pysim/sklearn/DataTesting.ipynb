{
 "metadata": {
  "name": "",
  "signature": "sha256:aca07e6ec5aa1caf452bf3cf632138494edaa17ebd42e57c37588d7d643a37a2"
 },
 "nbformat": 3,
 "nbformat_minor": 0,
 "worksheets": [
  {
   "cells": [
    {
     "cell_type": "heading",
     "level": 1,
     "metadata": {},
     "source": [
      "Skew Test"
     ]
    },
    {
     "cell_type": "code",
     "collapsed": false,
     "input": [
      "from sklearn import svm, linear_model\n",
      "from csv import reader\n",
      "import random\n",
      "from numpy.linalg import norm\n",
      "from numpy import average, var\n",
      "from pylab import *\n",
      "import urllib\n",
      "from zipfile import ZipFile\n",
      "import pandas as pd\n",
      "import os"
     ],
     "language": "python",
     "metadata": {},
     "outputs": [
      {
       "output_type": "stream",
       "stream": "stderr",
       "text": [
        "/Library/Python/2.7/site-packages/pandas/io/excel.py:626: UserWarning: Installed openpyxl is not supported at this time. Use >=1.6.1 and <2.0.0.\n",
        "  .format(openpyxl_compat.start_ver, openpyxl_compat.stop_ver))\n"
       ]
      }
     ],
     "prompt_number": 1
    },
    {
     "cell_type": "markdown",
     "metadata": {},
     "source": [
      "Enable inline plotting"
     ]
    },
    {
     "cell_type": "code",
     "collapsed": false,
     "input": [
      "%matplotlib inline"
     ],
     "language": "python",
     "metadata": {},
     "outputs": [],
     "prompt_number": 2
    },
    {
     "cell_type": "markdown",
     "metadata": {},
     "source": [
      "Support functionality"
     ]
    },
    {
     "cell_type": "code",
     "collapsed": false,
     "input": [
      "data_dir = \"./data/\"\n",
      "if not os.path.exists(data_dir):\n",
      "    os.makedirs(data_dir)\n",
      "    \n",
      "# Download the URL into data_dir + result_dir\n",
      "def get_dataset(url, result_dir):\n",
      "    fname = url.split(\"/\")[-1]\n",
      "    if not os.path.isfile(data_dir + fname):\n",
      "        print \"Downloading \" + fname \n",
      "        data = urllib.urlretrieve(url, data_dir + fname)\n",
      "    if fname[-3:] == \"zip\":\n",
      "        ZipFile(data_dir + fname).extractall(data_dir + result_dir)\n",
      "\n",
      "def make_binary_df(data):\n",
      "    data2 = pd.DataFrame()\n",
      "    for col_name in data:\n",
      "        if data[col_name].dtype is dtype('O'):\n",
      "            # determine the unique values\n",
      "            values = pd.unique(data[col_name].values)\n",
      "            if size(values) == 2:\n",
      "                # Ensure a canoncial ordering\n",
      "                values = sort(values)\n",
      "                # special case where we only need one column\n",
      "                new_col = 2.0 * (data[col_name] == values[1]) - 1.0\n",
      "                data2[col_name] = new_col\n",
      "            else:\n",
      "                # create a new binary column for each value\n",
      "                for v in values:\n",
      "                    new_col = 2.0 * (data[col_name] == v) - 1.0\n",
      "                    data2[col_name + \"_is_\" + v] = new_col\n",
      "        else:\n",
      "            data2[col_name] = data[col_name]\n",
      "    return data2"
     ],
     "language": "python",
     "metadata": {},
     "outputs": [],
     "prompt_number": 3
    },
    {
     "cell_type": "heading",
     "level": 1,
     "metadata": {},
     "source": [
      "Bank Marketing Data"
     ]
    },
    {
     "cell_type": "markdown",
     "metadata": {},
     "source": [
      "Download and open the data file."
     ]
    },
    {
     "cell_type": "code",
     "collapsed": false,
     "input": [
      "get_dataset(\"https://archive.ics.uci.edu/ml/machine-learning-databases/00222/bank.zip\", \"bank\")\n",
      "data = pd.read_csv(data_dir + \"bank/bank-full.csv\", sep = ';')\n",
      "data.tail(5)"
     ],
     "language": "python",
     "metadata": {},
     "outputs": [
      {
       "html": [
        "<div style=\"max-height:1000px;max-width:1500px;overflow:auto;\">\n",
        "<table border=\"1\" class=\"dataframe\">\n",
        "  <thead>\n",
        "    <tr style=\"text-align: right;\">\n",
        "      <th></th>\n",
        "      <th>age</th>\n",
        "      <th>job</th>\n",
        "      <th>marital</th>\n",
        "      <th>education</th>\n",
        "      <th>default</th>\n",
        "      <th>balance</th>\n",
        "      <th>housing</th>\n",
        "      <th>loan</th>\n",
        "      <th>contact</th>\n",
        "      <th>day</th>\n",
        "      <th>month</th>\n",
        "      <th>duration</th>\n",
        "      <th>campaign</th>\n",
        "      <th>pdays</th>\n",
        "      <th>previous</th>\n",
        "      <th>poutcome</th>\n",
        "      <th>y</th>\n",
        "    </tr>\n",
        "  </thead>\n",
        "  <tbody>\n",
        "    <tr>\n",
        "      <th>45206</th>\n",
        "      <td> 51</td>\n",
        "      <td>   technician</td>\n",
        "      <td>  married</td>\n",
        "      <td>  tertiary</td>\n",
        "      <td> no</td>\n",
        "      <td>  825</td>\n",
        "      <td> no</td>\n",
        "      <td> no</td>\n",
        "      <td>  cellular</td>\n",
        "      <td> 17</td>\n",
        "      <td> nov</td>\n",
        "      <td>  977</td>\n",
        "      <td> 3</td>\n",
        "      <td>  -1</td>\n",
        "      <td>  0</td>\n",
        "      <td> unknown</td>\n",
        "      <td> yes</td>\n",
        "    </tr>\n",
        "    <tr>\n",
        "      <th>45207</th>\n",
        "      <td> 71</td>\n",
        "      <td>      retired</td>\n",
        "      <td> divorced</td>\n",
        "      <td>   primary</td>\n",
        "      <td> no</td>\n",
        "      <td> 1729</td>\n",
        "      <td> no</td>\n",
        "      <td> no</td>\n",
        "      <td>  cellular</td>\n",
        "      <td> 17</td>\n",
        "      <td> nov</td>\n",
        "      <td>  456</td>\n",
        "      <td> 2</td>\n",
        "      <td>  -1</td>\n",
        "      <td>  0</td>\n",
        "      <td> unknown</td>\n",
        "      <td> yes</td>\n",
        "    </tr>\n",
        "    <tr>\n",
        "      <th>45208</th>\n",
        "      <td> 72</td>\n",
        "      <td>      retired</td>\n",
        "      <td>  married</td>\n",
        "      <td> secondary</td>\n",
        "      <td> no</td>\n",
        "      <td> 5715</td>\n",
        "      <td> no</td>\n",
        "      <td> no</td>\n",
        "      <td>  cellular</td>\n",
        "      <td> 17</td>\n",
        "      <td> nov</td>\n",
        "      <td> 1127</td>\n",
        "      <td> 5</td>\n",
        "      <td> 184</td>\n",
        "      <td>  3</td>\n",
        "      <td> success</td>\n",
        "      <td> yes</td>\n",
        "    </tr>\n",
        "    <tr>\n",
        "      <th>45209</th>\n",
        "      <td> 57</td>\n",
        "      <td>  blue-collar</td>\n",
        "      <td>  married</td>\n",
        "      <td> secondary</td>\n",
        "      <td> no</td>\n",
        "      <td>  668</td>\n",
        "      <td> no</td>\n",
        "      <td> no</td>\n",
        "      <td> telephone</td>\n",
        "      <td> 17</td>\n",
        "      <td> nov</td>\n",
        "      <td>  508</td>\n",
        "      <td> 4</td>\n",
        "      <td>  -1</td>\n",
        "      <td>  0</td>\n",
        "      <td> unknown</td>\n",
        "      <td>  no</td>\n",
        "    </tr>\n",
        "    <tr>\n",
        "      <th>45210</th>\n",
        "      <td> 37</td>\n",
        "      <td> entrepreneur</td>\n",
        "      <td>  married</td>\n",
        "      <td> secondary</td>\n",
        "      <td> no</td>\n",
        "      <td> 2971</td>\n",
        "      <td> no</td>\n",
        "      <td> no</td>\n",
        "      <td>  cellular</td>\n",
        "      <td> 17</td>\n",
        "      <td> nov</td>\n",
        "      <td>  361</td>\n",
        "      <td> 2</td>\n",
        "      <td> 188</td>\n",
        "      <td> 11</td>\n",
        "      <td>   other</td>\n",
        "      <td>  no</td>\n",
        "    </tr>\n",
        "  </tbody>\n",
        "</table>\n",
        "</div>"
       ],
       "metadata": {},
       "output_type": "pyout",
       "prompt_number": 4,
       "text": [
        "       age           job   marital  education default  balance housing loan  \\\n",
        "45206   51    technician   married   tertiary      no      825      no   no   \n",
        "45207   71       retired  divorced    primary      no     1729      no   no   \n",
        "45208   72       retired   married  secondary      no     5715      no   no   \n",
        "45209   57   blue-collar   married  secondary      no      668      no   no   \n",
        "45210   37  entrepreneur   married  secondary      no     2971      no   no   \n",
        "\n",
        "         contact  day month  duration  campaign  pdays  previous poutcome    y  \n",
        "45206   cellular   17   nov       977         3     -1         0  unknown  yes  \n",
        "45207   cellular   17   nov       456         2     -1         0  unknown  yes  \n",
        "45208   cellular   17   nov      1127         5    184         3  success  yes  \n",
        "45209  telephone   17   nov       508         4     -1         0  unknown   no  \n",
        "45210   cellular   17   nov       361         2    188        11    other   no  "
       ]
      }
     ],
     "prompt_number": 4
    },
    {
     "cell_type": "markdown",
     "metadata": {},
     "source": [
      "Convert string fields into multiple binary indicator columns."
     ]
    },
    {
     "cell_type": "code",
     "collapsed": false,
     "input": [
      "data2 = make_binary_df(data)\n",
      "data2.tail(5)"
     ],
     "language": "python",
     "metadata": {},
     "outputs": [
      {
       "html": [
        "<div style=\"max-height:1000px;max-width:1500px;overflow:auto;\">\n",
        "<table border=\"1\" class=\"dataframe\">\n",
        "  <thead>\n",
        "    <tr style=\"text-align: right;\">\n",
        "      <th></th>\n",
        "      <th>age</th>\n",
        "      <th>job_is_management</th>\n",
        "      <th>job_is_technician</th>\n",
        "      <th>job_is_entrepreneur</th>\n",
        "      <th>job_is_blue-collar</th>\n",
        "      <th>job_is_unknown</th>\n",
        "      <th>job_is_retired</th>\n",
        "      <th>job_is_admin.</th>\n",
        "      <th>job_is_services</th>\n",
        "      <th>job_is_self-employed</th>\n",
        "      <th>...</th>\n",
        "      <th>month_is_sep</th>\n",
        "      <th>duration</th>\n",
        "      <th>campaign</th>\n",
        "      <th>pdays</th>\n",
        "      <th>previous</th>\n",
        "      <th>poutcome_is_unknown</th>\n",
        "      <th>poutcome_is_failure</th>\n",
        "      <th>poutcome_is_other</th>\n",
        "      <th>poutcome_is_success</th>\n",
        "      <th>y</th>\n",
        "    </tr>\n",
        "  </thead>\n",
        "  <tbody>\n",
        "    <tr>\n",
        "      <th>45206</th>\n",
        "      <td> 51</td>\n",
        "      <td>-1</td>\n",
        "      <td> 1</td>\n",
        "      <td>-1</td>\n",
        "      <td>-1</td>\n",
        "      <td>-1</td>\n",
        "      <td>-1</td>\n",
        "      <td>-1</td>\n",
        "      <td>-1</td>\n",
        "      <td>-1</td>\n",
        "      <td>...</td>\n",
        "      <td>-1</td>\n",
        "      <td>  977</td>\n",
        "      <td> 3</td>\n",
        "      <td>  -1</td>\n",
        "      <td>  0</td>\n",
        "      <td> 1</td>\n",
        "      <td>-1</td>\n",
        "      <td>-1</td>\n",
        "      <td>-1</td>\n",
        "      <td> 1</td>\n",
        "    </tr>\n",
        "    <tr>\n",
        "      <th>45207</th>\n",
        "      <td> 71</td>\n",
        "      <td>-1</td>\n",
        "      <td>-1</td>\n",
        "      <td>-1</td>\n",
        "      <td>-1</td>\n",
        "      <td>-1</td>\n",
        "      <td> 1</td>\n",
        "      <td>-1</td>\n",
        "      <td>-1</td>\n",
        "      <td>-1</td>\n",
        "      <td>...</td>\n",
        "      <td>-1</td>\n",
        "      <td>  456</td>\n",
        "      <td> 2</td>\n",
        "      <td>  -1</td>\n",
        "      <td>  0</td>\n",
        "      <td> 1</td>\n",
        "      <td>-1</td>\n",
        "      <td>-1</td>\n",
        "      <td>-1</td>\n",
        "      <td> 1</td>\n",
        "    </tr>\n",
        "    <tr>\n",
        "      <th>45208</th>\n",
        "      <td> 72</td>\n",
        "      <td>-1</td>\n",
        "      <td>-1</td>\n",
        "      <td>-1</td>\n",
        "      <td>-1</td>\n",
        "      <td>-1</td>\n",
        "      <td> 1</td>\n",
        "      <td>-1</td>\n",
        "      <td>-1</td>\n",
        "      <td>-1</td>\n",
        "      <td>...</td>\n",
        "      <td>-1</td>\n",
        "      <td> 1127</td>\n",
        "      <td> 5</td>\n",
        "      <td> 184</td>\n",
        "      <td>  3</td>\n",
        "      <td>-1</td>\n",
        "      <td>-1</td>\n",
        "      <td>-1</td>\n",
        "      <td> 1</td>\n",
        "      <td> 1</td>\n",
        "    </tr>\n",
        "    <tr>\n",
        "      <th>45209</th>\n",
        "      <td> 57</td>\n",
        "      <td>-1</td>\n",
        "      <td>-1</td>\n",
        "      <td>-1</td>\n",
        "      <td> 1</td>\n",
        "      <td>-1</td>\n",
        "      <td>-1</td>\n",
        "      <td>-1</td>\n",
        "      <td>-1</td>\n",
        "      <td>-1</td>\n",
        "      <td>...</td>\n",
        "      <td>-1</td>\n",
        "      <td>  508</td>\n",
        "      <td> 4</td>\n",
        "      <td>  -1</td>\n",
        "      <td>  0</td>\n",
        "      <td> 1</td>\n",
        "      <td>-1</td>\n",
        "      <td>-1</td>\n",
        "      <td>-1</td>\n",
        "      <td>-1</td>\n",
        "    </tr>\n",
        "    <tr>\n",
        "      <th>45210</th>\n",
        "      <td> 37</td>\n",
        "      <td>-1</td>\n",
        "      <td>-1</td>\n",
        "      <td> 1</td>\n",
        "      <td>-1</td>\n",
        "      <td>-1</td>\n",
        "      <td>-1</td>\n",
        "      <td>-1</td>\n",
        "      <td>-1</td>\n",
        "      <td>-1</td>\n",
        "      <td>...</td>\n",
        "      <td>-1</td>\n",
        "      <td>  361</td>\n",
        "      <td> 2</td>\n",
        "      <td> 188</td>\n",
        "      <td> 11</td>\n",
        "      <td>-1</td>\n",
        "      <td>-1</td>\n",
        "      <td> 1</td>\n",
        "      <td>-1</td>\n",
        "      <td>-1</td>\n",
        "    </tr>\n",
        "  </tbody>\n",
        "</table>\n",
        "<p>5 rows \u00d7 49 columns</p>\n",
        "</div>"
       ],
       "metadata": {},
       "output_type": "pyout",
       "prompt_number": 5,
       "text": [
        "       age  job_is_management  job_is_technician  job_is_entrepreneur  \\\n",
        "45206   51                 -1                  1                   -1   \n",
        "45207   71                 -1                 -1                   -1   \n",
        "45208   72                 -1                 -1                   -1   \n",
        "45209   57                 -1                 -1                   -1   \n",
        "45210   37                 -1                 -1                    1   \n",
        "\n",
        "       job_is_blue-collar  job_is_unknown  job_is_retired  job_is_admin.  \\\n",
        "45206                  -1              -1              -1             -1   \n",
        "45207                  -1              -1               1             -1   \n",
        "45208                  -1              -1               1             -1   \n",
        "45209                   1              -1              -1             -1   \n",
        "45210                  -1              -1              -1             -1   \n",
        "\n",
        "       job_is_services  job_is_self-employed          ...           \\\n",
        "45206               -1                    -1          ...            \n",
        "45207               -1                    -1          ...            \n",
        "45208               -1                    -1          ...            \n",
        "45209               -1                    -1          ...            \n",
        "45210               -1                    -1          ...            \n",
        "\n",
        "       month_is_sep  duration  campaign  pdays  previous  poutcome_is_unknown  \\\n",
        "45206            -1       977         3     -1         0                    1   \n",
        "45207            -1       456         2     -1         0                    1   \n",
        "45208            -1      1127         5    184         3                   -1   \n",
        "45209            -1       508         4     -1         0                    1   \n",
        "45210            -1       361         2    188        11                   -1   \n",
        "\n",
        "       poutcome_is_failure  poutcome_is_other  poutcome_is_success  y  \n",
        "45206                   -1                 -1                   -1  1  \n",
        "45207                   -1                 -1                   -1  1  \n",
        "45208                   -1                 -1                    1  1  \n",
        "45209                   -1                 -1                   -1 -1  \n",
        "45210                   -1                  1                   -1 -1  \n",
        "\n",
        "[5 rows x 49 columns]"
       ]
      }
     ],
     "prompt_number": 5
    },
    {
     "cell_type": "markdown",
     "metadata": {},
     "source": [
      "Split out the $X$ and $y$ values"
     ]
    },
    {
     "cell_type": "code",
     "collapsed": false,
     "input": [
      "X = data2.drop(\"y\", axis=1).as_matrix()\n",
      "Y = data2['y'].as_matrix()\n",
      "n, p = X.shape\n",
      "print \"n: \" + str(n)\n",
      "print \"p: \" + str(p)\n",
      "assert(size(Y) == n) "
     ],
     "language": "python",
     "metadata": {},
     "outputs": [
      {
       "output_type": "stream",
       "stream": "stdout",
       "text": [
        "n: 45211\n",
        "p: 48\n"
       ]
      }
     ],
     "prompt_number": 6
    },
    {
     "cell_type": "heading",
     "level": 3,
     "metadata": {},
     "source": [
      "Run Skew Experiments"
     ]
    },
    {
     "cell_type": "code",
     "collapsed": false,
     "input": [
      "trials = 5\n",
      "cluster_sizes = np.array([2,4,8,16,32,64,128,256])\n",
      "test_prop = 0.2\n",
      "\n",
      "testSize = int(test_prop * n)\n",
      "indices = np.arange(n)\n",
      "\n",
      "globalModelScores = np.zeros(trials)\n",
      "globalModels = np.zeros((trials, p+1))\n",
      "localModelScores = np.zeros((trials, size(cluster_sizes)))\n",
      "meanModelScores = np.zeros((trials, size(cluster_sizes)))\n",
      "modelVariance = np.zeros((trials, size(cluster_sizes)))\n",
      "\n",
      "\n",
      "for t in range(0, trials):\n",
      "    print \"Starting trial: \" + str(t)\n",
      "    # Randomly create training and test split\n",
      "    shuffle(indices)\n",
      "    Xtest = X[indices[:testSize],:]\n",
      "    Ytest = Y[indices[:testSize]]\n",
      "    Xtrain = X[indices[testSize:],:]\n",
      "    Ytrain = Y[indices[testSize:]]\n",
      "\n",
      "    # Train a global model on all the data\n",
      "    globalModel = linear_model.LogisticRegression()\n",
      "    globalModel.fit(Xtrain, Ytrain)\n",
      "    globalModelScores[t] = globalModel.score(Xtest, Ytest)\n",
      "    globalModels[t,:] = np.append(globalModel.coef_.flatten(), globalModel.intercept_)\n",
      "    \n",
      "    # Train local models on each machine\n",
      "    for m in range(0, size(cluster_sizes)):\n",
      "        num_machines = cluster_sizes[m]\n",
      "        split_Xtrain = np.array_split(Xtrain, num_machines)\n",
      "        split_Ytrain = np.array_split(Ytrain, num_machines)\n",
      "        # Allocate arrays to store local model info\n",
      "        coeffs = np.zeros((num_machines, p+1))\n",
      "        scores = np.zeros(num_machines)\n",
      "        \n",
      "        # Train local models\n",
      "        for i in range(0, num_machines):\n",
      "            localModel = linear_model.LogisticRegression()\n",
      "            localModel.fit(split_Xtrain[i], split_Ytrain[i])\n",
      "            scores[i] = localModel.score(Xtest, Ytest)\n",
      "            coeffs[i, :] = np.append(localModel.coef_.flatten(), localModel.intercept_)\n",
      "        \n",
      "        # Compute cluster statistics\n",
      "        localModelScores[t,m] = np.mean(scores)\n",
      "        modelVariance[t,m] = np.mean(np.square(coeffs - globalModels[t,:]))\n",
      "        \n",
      "        # Super hack to try and estimate the score of the model obtained by averaging the models\n",
      "        avgCoeff = np.array([np.mean(coeffs, axis=0)])\n",
      "        meanModel = linear_model.LogisticRegression()\n",
      "        # Need to first train the model to set extra class variables\n",
      "        meanModel.fit(split_Xtrain[0], split_Ytrain[0])\n",
      "        # swap out the model parameters with mean parameters\n",
      "        meanModel.coef_ = avgCoeff[:, :-1]\n",
      "        meanModel.intercept_ = avgCoeff[:,-1]\n",
      "        meanModelScores[t,m] = meanModel.score(Xtest, Ytest)\n",
      "\n",
      "        \n",
      "        "
     ],
     "language": "python",
     "metadata": {},
     "outputs": [
      {
       "output_type": "stream",
       "stream": "stdout",
       "text": [
        "Starting trial: 0\n",
        "Starting trial: 1"
       ]
      },
      {
       "output_type": "stream",
       "stream": "stdout",
       "text": [
        "\n",
        "Starting trial: 2"
       ]
      },
      {
       "output_type": "stream",
       "stream": "stdout",
       "text": [
        "\n",
        "Starting trial: 3"
       ]
      },
      {
       "output_type": "stream",
       "stream": "stdout",
       "text": [
        "\n",
        "Starting trial: 4"
       ]
      },
      {
       "output_type": "stream",
       "stream": "stdout",
       "text": [
        "\n"
       ]
      }
     ],
     "prompt_number": 7
    },
    {
     "cell_type": "markdown",
     "metadata": {},
     "source": [
      "Analyze the results"
     ]
    },
    {
     "cell_type": "code",
     "collapsed": false,
     "input": [
      "plot(cluster_sizes, np.mean(localModelScores, axis=0) / np.mean(globalModelScores))\n",
      "plot(cluster_sizes, np.mean(meanModelScores, axis=0) / np.mean(globalModelScores))"
     ],
     "language": "python",
     "metadata": {},
     "outputs": [
      {
       "metadata": {},
       "output_type": "pyout",
       "prompt_number": 12,
       "text": [
        "[<matplotlib.lines.Line2D at 0x109d66b90>]"
       ]
      },
      {
       "metadata": {},
       "output_type": "display_data",
       "png": "[encoded data removed]",
       "text": [
        "<matplotlib.figure.Figure at 0x109d66c10>"
       ]
      }
     ],
     "prompt_number": 12
    },
    {
     "cell_type": "code",
     "collapsed": true,
     "input": [
      "plot(cluster_sizes, np.mean(modelVariance, axis=0))"
     ],
     "language": "python",
     "metadata": {},
     "outputs": [
      {
       "metadata": {},
       "output_type": "pyout",
       "prompt_number": 9,
       "text": [
        "[<matplotlib.lines.Line2D at 0x109d426d0>]"
       ]
      },
      {
       "metadata": {},
       "output_type": "display_data",
       "png": "[encoded data removed]",
       "text": [
        "<matplotlib.figure.Figure at 0x10944b910>"
       ]
      }
     ],
     "prompt_number": 9
    },
    {
     "cell_type": "heading",
     "level": 1,
     "metadata": {},
     "source": [
      "Scratch Material"
     ]
    },
    {
     "cell_type": "code",
     "collapsed": false,
     "input": [
      "# globalSVM = svm.LinearSVC()\n",
      "# globalSVM.fit(Xtrain, Ytrain)\n",
      "# globalLogistic = linear_model.LogisticRegression(penalty='l1')\n",
      "# globalLogistic.fit(Xtrain, Ytrain)\n",
      "# print globalSVM.score(Xtest, Ytest)\n",
      "# print globalLogistic.score(Xtest, Ytest)\n",
      "\n",
      "# groups = data.groupby('job')\n",
      "# sz = groups.size()\n",
      "# print sz"
     ],
     "language": "python",
     "metadata": {},
     "outputs": [],
     "prompt_number": 10
    }
   ],
   "metadata": {}
  }
 ]
}