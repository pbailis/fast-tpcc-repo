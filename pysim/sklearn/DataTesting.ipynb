{
 "metadata": {
  "name": "",
  "signature": "sha256:f6176080cfa90d44719b3be8a31defa783209d164e37b3fb85ff13b2edd12d70"
 },
 "nbformat": 3,
 "nbformat_minor": 0,
 "worksheets": [
  {
   "cells": [
    {
     "cell_type": "heading",
     "level": 1,
     "metadata": {},
     "source": [
      "Skew Test"
     ]
    },
    {
     "cell_type": "code",
     "collapsed": false,
     "input": [
      "from sklearn import svm, linear_model\n",
      "from csv import reader\n",
      "import random\n",
      "from numpy.linalg import norm\n",
      "from numpy import average, var\n",
      "from scipy.sparse import *\n",
      "from pylab import *\n",
      "import urllib\n",
      "from zipfile import ZipFile\n",
      "import gzip\n",
      "import pandas as pd\n",
      "import os\n",
      "import simutils"
     ],
     "language": "python",
     "metadata": {},
     "outputs": [
      {
       "output_type": "stream",
       "stream": "stderr",
       "text": [
        "/Library/Frameworks/Python.framework/Versions/2.7/lib/python2.7/site-packages/pandas/io/excel.py:626: UserWarning: Installed openpyxl is not supported at this time. Use >=1.6.1 and <2.0.0.\n",
        "  .format(openpyxl_compat.start_ver, openpyxl_compat.stop_ver))\n"
       ]
      }
     ],
     "prompt_number": 1
    },
    {
     "cell_type": "markdown",
     "metadata": {},
     "source": [
      "Enable inline plotting"
     ]
    },
    {
     "cell_type": "code",
     "collapsed": false,
     "input": [
      "%matplotlib inline"
     ],
     "language": "python",
     "metadata": {},
     "outputs": [],
     "prompt_number": 2
    },
    {
     "cell_type": "heading",
     "level": 1,
     "metadata": {},
     "source": [
      "Bank Marketing Data"
     ]
    },
    {
     "cell_type": "markdown",
     "metadata": {},
     "source": [
      "Download and open the data file."
     ]
    },
    {
     "cell_type": "code",
     "collapsed": false,
     "input": [
      "simutils.get_dataset(\"https://archive.ics.uci.edu/ml/machine-learning-databases/00222/bank.zip\", \"bank\")\n",
      "data = pd.read_csv(simutils.data_dir + \"bank/bank-full.csv\", sep = ';')\n",
      "data.tail(5)"
     ],
     "language": "python",
     "metadata": {},
     "outputs": [
      {
       "html": [
        "<div style=\"max-height:1000px;max-width:1500px;overflow:auto;\">\n",
        "<table border=\"1\" class=\"dataframe\">\n",
        "  <thead>\n",
        "    <tr style=\"text-align: right;\">\n",
        "      <th></th>\n",
        "      <th>age</th>\n",
        "      <th>job</th>\n",
        "      <th>marital</th>\n",
        "      <th>education</th>\n",
        "      <th>default</th>\n",
        "      <th>balance</th>\n",
        "      <th>housing</th>\n",
        "      <th>loan</th>\n",
        "      <th>contact</th>\n",
        "      <th>day</th>\n",
        "      <th>month</th>\n",
        "      <th>duration</th>\n",
        "      <th>campaign</th>\n",
        "      <th>pdays</th>\n",
        "      <th>previous</th>\n",
        "      <th>poutcome</th>\n",
        "      <th>y</th>\n",
        "    </tr>\n",
        "  </thead>\n",
        "  <tbody>\n",
        "    <tr>\n",
        "      <th>45206</th>\n",
        "      <td> 51</td>\n",
        "      <td>   technician</td>\n",
        "      <td>  married</td>\n",
        "      <td>  tertiary</td>\n",
        "      <td> no</td>\n",
        "      <td>  825</td>\n",
        "      <td> no</td>\n",
        "      <td> no</td>\n",
        "      <td>  cellular</td>\n",
        "      <td> 17</td>\n",
        "      <td> nov</td>\n",
        "      <td>  977</td>\n",
        "      <td> 3</td>\n",
        "      <td>  -1</td>\n",
        "      <td>  0</td>\n",
        "      <td> unknown</td>\n",
        "      <td> yes</td>\n",
        "    </tr>\n",
        "    <tr>\n",
        "      <th>45207</th>\n",
        "      <td> 71</td>\n",
        "      <td>      retired</td>\n",
        "      <td> divorced</td>\n",
        "      <td>   primary</td>\n",
        "      <td> no</td>\n",
        "      <td> 1729</td>\n",
        "      <td> no</td>\n",
        "      <td> no</td>\n",
        "      <td>  cellular</td>\n",
        "      <td> 17</td>\n",
        "      <td> nov</td>\n",
        "      <td>  456</td>\n",
        "      <td> 2</td>\n",
        "      <td>  -1</td>\n",
        "      <td>  0</td>\n",
        "      <td> unknown</td>\n",
        "      <td> yes</td>\n",
        "    </tr>\n",
        "    <tr>\n",
        "      <th>45208</th>\n",
        "      <td> 72</td>\n",
        "      <td>      retired</td>\n",
        "      <td>  married</td>\n",
        "      <td> secondary</td>\n",
        "      <td> no</td>\n",
        "      <td> 5715</td>\n",
        "      <td> no</td>\n",
        "      <td> no</td>\n",
        "      <td>  cellular</td>\n",
        "      <td> 17</td>\n",
        "      <td> nov</td>\n",
        "      <td> 1127</td>\n",
        "      <td> 5</td>\n",
        "      <td> 184</td>\n",
        "      <td>  3</td>\n",
        "      <td> success</td>\n",
        "      <td> yes</td>\n",
        "    </tr>\n",
        "    <tr>\n",
        "      <th>45209</th>\n",
        "      <td> 57</td>\n",
        "      <td>  blue-collar</td>\n",
        "      <td>  married</td>\n",
        "      <td> secondary</td>\n",
        "      <td> no</td>\n",
        "      <td>  668</td>\n",
        "      <td> no</td>\n",
        "      <td> no</td>\n",
        "      <td> telephone</td>\n",
        "      <td> 17</td>\n",
        "      <td> nov</td>\n",
        "      <td>  508</td>\n",
        "      <td> 4</td>\n",
        "      <td>  -1</td>\n",
        "      <td>  0</td>\n",
        "      <td> unknown</td>\n",
        "      <td>  no</td>\n",
        "    </tr>\n",
        "    <tr>\n",
        "      <th>45210</th>\n",
        "      <td> 37</td>\n",
        "      <td> entrepreneur</td>\n",
        "      <td>  married</td>\n",
        "      <td> secondary</td>\n",
        "      <td> no</td>\n",
        "      <td> 2971</td>\n",
        "      <td> no</td>\n",
        "      <td> no</td>\n",
        "      <td>  cellular</td>\n",
        "      <td> 17</td>\n",
        "      <td> nov</td>\n",
        "      <td>  361</td>\n",
        "      <td> 2</td>\n",
        "      <td> 188</td>\n",
        "      <td> 11</td>\n",
        "      <td>   other</td>\n",
        "      <td>  no</td>\n",
        "    </tr>\n",
        "  </tbody>\n",
        "</table>\n",
        "</div>"
       ],
       "metadata": {},
       "output_type": "pyout",
       "prompt_number": 3,
       "text": [
        "       age           job   marital  education default  balance housing loan  \\\n",
        "45206   51    technician   married   tertiary      no      825      no   no   \n",
        "45207   71       retired  divorced    primary      no     1729      no   no   \n",
        "45208   72       retired   married  secondary      no     5715      no   no   \n",
        "45209   57   blue-collar   married  secondary      no      668      no   no   \n",
        "45210   37  entrepreneur   married  secondary      no     2971      no   no   \n",
        "\n",
        "         contact  day month  duration  campaign  pdays  previous poutcome    y  \n",
        "45206   cellular   17   nov       977         3     -1         0  unknown  yes  \n",
        "45207   cellular   17   nov       456         2     -1         0  unknown  yes  \n",
        "45208   cellular   17   nov      1127         5    184         3  success  yes  \n",
        "45209  telephone   17   nov       508         4     -1         0  unknown   no  \n",
        "45210   cellular   17   nov       361         2    188        11    other   no  "
       ]
      }
     ],
     "prompt_number": 3
    },
    {
     "cell_type": "markdown",
     "metadata": {},
     "source": [
      "Convert string fields into multiple binary indicator columns."
     ]
    },
    {
     "cell_type": "code",
     "collapsed": false,
     "input": [
      "data2 = simutils.make_binary_df(data)\n",
      "data2.tail(5)"
     ],
     "language": "python",
     "metadata": {},
     "outputs": [
      {
       "html": [
        "<div style=\"max-height:1000px;max-width:1500px;overflow:auto;\">\n",
        "<table border=\"1\" class=\"dataframe\">\n",
        "  <thead>\n",
        "    <tr style=\"text-align: right;\">\n",
        "      <th></th>\n",
        "      <th>age</th>\n",
        "      <th>job_is_management</th>\n",
        "      <th>job_is_technician</th>\n",
        "      <th>job_is_entrepreneur</th>\n",
        "      <th>job_is_blue-collar</th>\n",
        "      <th>job_is_unknown</th>\n",
        "      <th>job_is_retired</th>\n",
        "      <th>job_is_admin.</th>\n",
        "      <th>job_is_services</th>\n",
        "      <th>job_is_self-employed</th>\n",
        "      <th>...</th>\n",
        "      <th>month_is_sep</th>\n",
        "      <th>duration</th>\n",
        "      <th>campaign</th>\n",
        "      <th>pdays</th>\n",
        "      <th>previous</th>\n",
        "      <th>poutcome_is_unknown</th>\n",
        "      <th>poutcome_is_failure</th>\n",
        "      <th>poutcome_is_other</th>\n",
        "      <th>poutcome_is_success</th>\n",
        "      <th>y</th>\n",
        "    </tr>\n",
        "  </thead>\n",
        "  <tbody>\n",
        "    <tr>\n",
        "      <th>45206</th>\n",
        "      <td> 51</td>\n",
        "      <td>-1</td>\n",
        "      <td> 1</td>\n",
        "      <td>-1</td>\n",
        "      <td>-1</td>\n",
        "      <td>-1</td>\n",
        "      <td>-1</td>\n",
        "      <td>-1</td>\n",
        "      <td>-1</td>\n",
        "      <td>-1</td>\n",
        "      <td>...</td>\n",
        "      <td>-1</td>\n",
        "      <td>  977</td>\n",
        "      <td> 3</td>\n",
        "      <td>  -1</td>\n",
        "      <td>  0</td>\n",
        "      <td> 1</td>\n",
        "      <td>-1</td>\n",
        "      <td>-1</td>\n",
        "      <td>-1</td>\n",
        "      <td> 1</td>\n",
        "    </tr>\n",
        "    <tr>\n",
        "      <th>45207</th>\n",
        "      <td> 71</td>\n",
        "      <td>-1</td>\n",
        "      <td>-1</td>\n",
        "      <td>-1</td>\n",
        "      <td>-1</td>\n",
        "      <td>-1</td>\n",
        "      <td> 1</td>\n",
        "      <td>-1</td>\n",
        "      <td>-1</td>\n",
        "      <td>-1</td>\n",
        "      <td>...</td>\n",
        "      <td>-1</td>\n",
        "      <td>  456</td>\n",
        "      <td> 2</td>\n",
        "      <td>  -1</td>\n",
        "      <td>  0</td>\n",
        "      <td> 1</td>\n",
        "      <td>-1</td>\n",
        "      <td>-1</td>\n",
        "      <td>-1</td>\n",
        "      <td> 1</td>\n",
        "    </tr>\n",
        "    <tr>\n",
        "      <th>45208</th>\n",
        "      <td> 72</td>\n",
        "      <td>-1</td>\n",
        "      <td>-1</td>\n",
        "      <td>-1</td>\n",
        "      <td>-1</td>\n",
        "      <td>-1</td>\n",
        "      <td> 1</td>\n",
        "      <td>-1</td>\n",
        "      <td>-1</td>\n",
        "      <td>-1</td>\n",
        "      <td>...</td>\n",
        "      <td>-1</td>\n",
        "      <td> 1127</td>\n",
        "      <td> 5</td>\n",
        "      <td> 184</td>\n",
        "      <td>  3</td>\n",
        "      <td>-1</td>\n",
        "      <td>-1</td>\n",
        "      <td>-1</td>\n",
        "      <td> 1</td>\n",
        "      <td> 1</td>\n",
        "    </tr>\n",
        "    <tr>\n",
        "      <th>45209</th>\n",
        "      <td> 57</td>\n",
        "      <td>-1</td>\n",
        "      <td>-1</td>\n",
        "      <td>-1</td>\n",
        "      <td> 1</td>\n",
        "      <td>-1</td>\n",
        "      <td>-1</td>\n",
        "      <td>-1</td>\n",
        "      <td>-1</td>\n",
        "      <td>-1</td>\n",
        "      <td>...</td>\n",
        "      <td>-1</td>\n",
        "      <td>  508</td>\n",
        "      <td> 4</td>\n",
        "      <td>  -1</td>\n",
        "      <td>  0</td>\n",
        "      <td> 1</td>\n",
        "      <td>-1</td>\n",
        "      <td>-1</td>\n",
        "      <td>-1</td>\n",
        "      <td>-1</td>\n",
        "    </tr>\n",
        "    <tr>\n",
        "      <th>45210</th>\n",
        "      <td> 37</td>\n",
        "      <td>-1</td>\n",
        "      <td>-1</td>\n",
        "      <td> 1</td>\n",
        "      <td>-1</td>\n",
        "      <td>-1</td>\n",
        "      <td>-1</td>\n",
        "      <td>-1</td>\n",
        "      <td>-1</td>\n",
        "      <td>-1</td>\n",
        "      <td>...</td>\n",
        "      <td>-1</td>\n",
        "      <td>  361</td>\n",
        "      <td> 2</td>\n",
        "      <td> 188</td>\n",
        "      <td> 11</td>\n",
        "      <td>-1</td>\n",
        "      <td>-1</td>\n",
        "      <td> 1</td>\n",
        "      <td>-1</td>\n",
        "      <td>-1</td>\n",
        "    </tr>\n",
        "  </tbody>\n",
        "</table>\n",
        "<p>5 rows \u00d7 49 columns</p>\n",
        "</div>"
       ],
       "metadata": {},
       "output_type": "pyout",
       "prompt_number": 4,
       "text": [
        "       age  job_is_management  job_is_technician  job_is_entrepreneur  \\\n",
        "45206   51                 -1                  1                   -1   \n",
        "45207   71                 -1                 -1                   -1   \n",
        "45208   72                 -1                 -1                   -1   \n",
        "45209   57                 -1                 -1                   -1   \n",
        "45210   37                 -1                 -1                    1   \n",
        "\n",
        "       job_is_blue-collar  job_is_unknown  job_is_retired  job_is_admin.  \\\n",
        "45206                  -1              -1              -1             -1   \n",
        "45207                  -1              -1               1             -1   \n",
        "45208                  -1              -1               1             -1   \n",
        "45209                   1              -1              -1             -1   \n",
        "45210                  -1              -1              -1             -1   \n",
        "\n",
        "       job_is_services  job_is_self-employed          ...           \\\n",
        "45206               -1                    -1          ...            \n",
        "45207               -1                    -1          ...            \n",
        "45208               -1                    -1          ...            \n",
        "45209               -1                    -1          ...            \n",
        "45210               -1                    -1          ...            \n",
        "\n",
        "       month_is_sep  duration  campaign  pdays  previous  poutcome_is_unknown  \\\n",
        "45206            -1       977         3     -1         0                    1   \n",
        "45207            -1       456         2     -1         0                    1   \n",
        "45208            -1      1127         5    184         3                   -1   \n",
        "45209            -1       508         4     -1         0                    1   \n",
        "45210            -1       361         2    188        11                   -1   \n",
        "\n",
        "       poutcome_is_failure  poutcome_is_other  poutcome_is_success  y  \n",
        "45206                   -1                 -1                   -1  1  \n",
        "45207                   -1                 -1                   -1  1  \n",
        "45208                   -1                 -1                    1  1  \n",
        "45209                   -1                 -1                   -1 -1  \n",
        "45210                   -1                  1                   -1 -1  \n",
        "\n",
        "[5 rows x 49 columns]"
       ]
      }
     ],
     "prompt_number": 4
    },
    {
     "cell_type": "markdown",
     "metadata": {},
     "source": [
      "Split out the $X$ and $y$ values"
     ]
    },
    {
     "cell_type": "code",
     "collapsed": false,
     "input": [
      "X = data2.drop(\"y\", axis=1).as_matrix()\n",
      "Y = data2['y'].as_matrix()\n",
      "n, p = X.shape\n",
      "print \"n: \" + str(n)\n",
      "print \"p: \" + str(p)\n",
      "assert(size(Y) == n) "
     ],
     "language": "python",
     "metadata": {},
     "outputs": [
      {
       "output_type": "stream",
       "stream": "stdout",
       "text": [
        "n: 45211\n",
        "p: 48\n"
       ]
      }
     ],
     "prompt_number": 5
    },
    {
     "cell_type": "heading",
     "level": 3,
     "metadata": {},
     "source": [
      "Run Skew Experiments"
     ]
    },
    {
     "cell_type": "code",
     "collapsed": false,
     "input": [
      "trials = 5\n",
      "cluster_sizes = np.array([2,4,8,16,32,64,128,256])\n",
      "test_prop = 0.2\n",
      "\n",
      "testSize = int(test_prop * n)\n",
      "indices = np.arange(n)\n",
      "\n",
      "globalModelScores = np.zeros(trials)\n",
      "globalModels = np.zeros((trials, p+1))\n",
      "localModelScores = np.zeros((trials, size(cluster_sizes)))\n",
      "meanModelScores = np.zeros((trials, size(cluster_sizes)))\n",
      "modelVariance = np.zeros((trials, size(cluster_sizes)))\n",
      "\n",
      "\n",
      "for t in range(0, trials):\n",
      "    print \"Starting trial: \" + str(t)\n",
      "    # Randomly create training and test split\n",
      "    shuffle(indices)\n",
      "    Xtest = X[indices[:testSize],:]\n",
      "    Ytest = Y[indices[:testSize]]\n",
      "    Xtrain = X[indices[testSize:],:]\n",
      "    Ytrain = Y[indices[testSize:]]\n",
      "\n",
      "    # Train a global model on all the data\n",
      "    globalModel = linear_model.LogisticRegression()\n",
      "    globalModel.fit(Xtrain, Ytrain)\n",
      "    globalModelScores[t] = globalModel.score(Xtest, Ytest)\n",
      "    globalModels[t,:] = np.append(globalModel.coef_.flatten(), globalModel.intercept_)\n",
      "    \n",
      "    # Train local models on each machine\n",
      "    for m in range(0, size(cluster_sizes)):\n",
      "        num_machines = cluster_sizes[m]\n",
      "        split_Xtrain = np.array_split(Xtrain, num_machines)\n",
      "        split_Ytrain = np.array_split(Ytrain, num_machines)\n",
      "        # Allocate arrays to store local model info\n",
      "        coeffs = np.zeros((num_machines, p+1))\n",
      "        scores = np.zeros(num_machines)\n",
      "        \n",
      "        # Train local models\n",
      "        for i in range(0, num_machines):\n",
      "            localModel = linear_model.LogisticRegression()\n",
      "            localModel.fit(split_Xtrain[i], split_Ytrain[i])\n",
      "            scores[i] = localModel.score(Xtest, Ytest)\n",
      "            coeffs[i, :] = np.append(localModel.coef_.flatten(), localModel.intercept_)\n",
      "        \n",
      "        # Compute cluster statistics\n",
      "        localModelScores[t,m] = np.mean(scores)\n",
      "        modelVariance[t,m] = np.mean(np.square(coeffs - globalModels[t,:]))\n",
      "        \n",
      "        # Super hack to try and estimate the score of the model obtained by averaging the models\n",
      "        avgCoeff = np.array([np.mean(coeffs, axis=0)])\n",
      "        meanModel = linear_model.LogisticRegression()\n",
      "        # Need to first train the model to set extra class variables\n",
      "        meanModel.fit(split_Xtrain[0], split_Ytrain[0])\n",
      "        # swap out the model parameters with mean parameters\n",
      "        meanModel.coef_ = avgCoeff[:, :-1]\n",
      "        meanModel.intercept_ = avgCoeff[:,-1]\n",
      "        meanModelScores[t,m] = meanModel.score(Xtest, Ytest)\n",
      "\n",
      "        \n",
      "        "
     ],
     "language": "python",
     "metadata": {},
     "outputs": [
      {
       "output_type": "stream",
       "stream": "stdout",
       "text": [
        "Starting trial: 0\n",
        "Starting trial: 1"
       ]
      },
      {
       "output_type": "stream",
       "stream": "stdout",
       "text": [
        "\n",
        "Starting trial: 2"
       ]
      },
      {
       "output_type": "stream",
       "stream": "stdout",
       "text": [
        "\n",
        "Starting trial: 3"
       ]
      },
      {
       "output_type": "stream",
       "stream": "stdout",
       "text": [
        "\n",
        "Starting trial: 4"
       ]
      },
      {
       "output_type": "stream",
       "stream": "stdout",
       "text": [
        "\n"
       ]
      }
     ],
     "prompt_number": 6
    },
    {
     "cell_type": "markdown",
     "metadata": {},
     "source": [
      "Analyze the results"
     ]
    },
    {
     "cell_type": "code",
     "collapsed": false,
     "input": [
      "print \"Global Bias: \" + str(np.mean((Y +2.0)/2.0))\n",
      "print \"Global Accuracy: \" + str( np.mean(globalModelScores))\n",
      "plot(cluster_sizes, np.mean(localModelScores, axis=0) / np.mean(globalModelScores))\n",
      "plot(cluster_sizes, np.mean(meanModelScores, axis=0) / np.mean(globalModelScores))\n",
      "legend([\"local\", \"Mean Model\"])"
     ],
     "language": "python",
     "metadata": {},
     "outputs": [
      {
       "output_type": "stream",
       "stream": "stdout",
       "text": [
        "Global Bias: 0.616984804583\n",
        "Global Accuracy: 0.901681044017\n"
       ]
      },
      {
       "metadata": {},
       "output_type": "pyout",
       "prompt_number": 7,
       "text": [
        "<matplotlib.legend.Legend at 0x10cecd410>"
       ]
      },
      {
       "metadata": {},
       "output_type": "display_data",
       "png": "[encoded data removed]",
       "text": [
        "<matplotlib.figure.Figure at 0x10c6e8890>"
       ]
      }
     ],
     "prompt_number": 7
    },
    {
     "cell_type": "code",
     "collapsed": true,
     "input": [
      "plot(cluster_sizes, np.mean(modelVariance, axis=0))"
     ],
     "language": "python",
     "metadata": {},
     "outputs": [
      {
       "metadata": {},
       "output_type": "pyout",
       "prompt_number": 8,
       "text": [
        "[<matplotlib.lines.Line2D at 0x10c7ad9d0>]"
       ]
      },
      {
       "metadata": {},
       "output_type": "display_data",
       "png": "[encoded data removed]",
       "text": [
        "<matplotlib.figure.Figure at 0x10c70e550>"
       ]
      }
     ],
     "prompt_number": 8
    },
    {
     "cell_type": "markdown",
     "metadata": {},
     "source": [
      "---"
     ]
    },
    {
     "cell_type": "heading",
     "level": 2,
     "metadata": {},
     "source": [
      "Adult Sensus Dataset"
     ]
    },
    {
     "cell_type": "code",
     "collapsed": false,
     "input": [
      "simutils.get_dataset(\"http://archive.ics.uci.edu/ml/machine-learning-databases/adult/adult.data\", \"adult\")\n",
      "simutils.get_dataset(\"http://archive.ics.uci.edu/ml/machine-learning-databases/adult/adult.test\", \"adult\")\n",
      "adult_names = [\"age\", \"workclass\", \"fnlwgt\", \"education\", \"education-num\", \"marital-status\", \n",
      "               \"occupation\", \"relationship\", \"race\", \"sex\", \"capital-gain\", \"capital-loss\",\n",
      "               \"hours-per-week\", \"native_country\", \">50k\"]\n",
      "train_data = pd.read_csv(simutils.data_dir + \"adult.data\", sep = ',', names=adult_names,  header=None).dropna()\n",
      "test_data = pd.read_csv(simutils.data_dir + \"adult.test\", sep = ',', names=adult_names,  header=None, skiprows=[0]).dropna()\n",
      "data = train_data.append(test_data)\n",
      "# Clean up last column which might have punctuation!?  \n",
      "data[\">50k\"] = data[\">50k\"].map(lambda x: x.replace(\".\", \"\"))\n",
      "print \"Data size: \" + str(data.shape)\n",
      "data.head(5)"
     ],
     "language": "python",
     "metadata": {},
     "outputs": [
      {
       "output_type": "stream",
       "stream": "stdout",
       "text": [
        "Downloading adult.data\n",
        "Downloading adult.test"
       ]
      },
      {
       "output_type": "stream",
       "stream": "stdout",
       "text": [
        "\n",
        "Data size: (48842, 15)"
       ]
      },
      {
       "output_type": "stream",
       "stream": "stdout",
       "text": [
        "\n"
       ]
      },
      {
       "html": [
        "<div style=\"max-height:1000px;max-width:1500px;overflow:auto;\">\n",
        "<table border=\"1\" class=\"dataframe\">\n",
        "  <thead>\n",
        "    <tr style=\"text-align: right;\">\n",
        "      <th></th>\n",
        "      <th>age</th>\n",
        "      <th>workclass</th>\n",
        "      <th>fnlwgt</th>\n",
        "      <th>education</th>\n",
        "      <th>education-num</th>\n",
        "      <th>marital-status</th>\n",
        "      <th>occupation</th>\n",
        "      <th>relationship</th>\n",
        "      <th>race</th>\n",
        "      <th>sex</th>\n",
        "      <th>capital-gain</th>\n",
        "      <th>capital-loss</th>\n",
        "      <th>hours-per-week</th>\n",
        "      <th>native_country</th>\n",
        "      <th>&gt;50k</th>\n",
        "    </tr>\n",
        "  </thead>\n",
        "  <tbody>\n",
        "    <tr>\n",
        "      <th>0</th>\n",
        "      <td> 39</td>\n",
        "      <td>         State-gov</td>\n",
        "      <td>  77516</td>\n",
        "      <td>  Bachelors</td>\n",
        "      <td> 13</td>\n",
        "      <td>       Never-married</td>\n",
        "      <td>       Adm-clerical</td>\n",
        "      <td>  Not-in-family</td>\n",
        "      <td>  White</td>\n",
        "      <td>    Male</td>\n",
        "      <td> 2174</td>\n",
        "      <td> 0</td>\n",
        "      <td> 40</td>\n",
        "      <td>  United-States</td>\n",
        "      <td>  &lt;=50K</td>\n",
        "    </tr>\n",
        "    <tr>\n",
        "      <th>1</th>\n",
        "      <td> 50</td>\n",
        "      <td>  Self-emp-not-inc</td>\n",
        "      <td>  83311</td>\n",
        "      <td>  Bachelors</td>\n",
        "      <td> 13</td>\n",
        "      <td>  Married-civ-spouse</td>\n",
        "      <td>    Exec-managerial</td>\n",
        "      <td>        Husband</td>\n",
        "      <td>  White</td>\n",
        "      <td>    Male</td>\n",
        "      <td>    0</td>\n",
        "      <td> 0</td>\n",
        "      <td> 13</td>\n",
        "      <td>  United-States</td>\n",
        "      <td>  &lt;=50K</td>\n",
        "    </tr>\n",
        "    <tr>\n",
        "      <th>2</th>\n",
        "      <td> 38</td>\n",
        "      <td>           Private</td>\n",
        "      <td> 215646</td>\n",
        "      <td>    HS-grad</td>\n",
        "      <td>  9</td>\n",
        "      <td>            Divorced</td>\n",
        "      <td>  Handlers-cleaners</td>\n",
        "      <td>  Not-in-family</td>\n",
        "      <td>  White</td>\n",
        "      <td>    Male</td>\n",
        "      <td>    0</td>\n",
        "      <td> 0</td>\n",
        "      <td> 40</td>\n",
        "      <td>  United-States</td>\n",
        "      <td>  &lt;=50K</td>\n",
        "    </tr>\n",
        "    <tr>\n",
        "      <th>3</th>\n",
        "      <td> 53</td>\n",
        "      <td>           Private</td>\n",
        "      <td> 234721</td>\n",
        "      <td>       11th</td>\n",
        "      <td>  7</td>\n",
        "      <td>  Married-civ-spouse</td>\n",
        "      <td>  Handlers-cleaners</td>\n",
        "      <td>        Husband</td>\n",
        "      <td>  Black</td>\n",
        "      <td>    Male</td>\n",
        "      <td>    0</td>\n",
        "      <td> 0</td>\n",
        "      <td> 40</td>\n",
        "      <td>  United-States</td>\n",
        "      <td>  &lt;=50K</td>\n",
        "    </tr>\n",
        "    <tr>\n",
        "      <th>4</th>\n",
        "      <td> 28</td>\n",
        "      <td>           Private</td>\n",
        "      <td> 338409</td>\n",
        "      <td>  Bachelors</td>\n",
        "      <td> 13</td>\n",
        "      <td>  Married-civ-spouse</td>\n",
        "      <td>     Prof-specialty</td>\n",
        "      <td>           Wife</td>\n",
        "      <td>  Black</td>\n",
        "      <td>  Female</td>\n",
        "      <td>    0</td>\n",
        "      <td> 0</td>\n",
        "      <td> 40</td>\n",
        "      <td>           Cuba</td>\n",
        "      <td>  &lt;=50K</td>\n",
        "    </tr>\n",
        "  </tbody>\n",
        "</table>\n",
        "</div>"
       ],
       "metadata": {},
       "output_type": "pyout",
       "prompt_number": 9,
       "text": [
        "   age          workclass  fnlwgt   education  education-num  \\\n",
        "0   39          State-gov   77516   Bachelors             13   \n",
        "1   50   Self-emp-not-inc   83311   Bachelors             13   \n",
        "2   38            Private  215646     HS-grad              9   \n",
        "3   53            Private  234721        11th              7   \n",
        "4   28            Private  338409   Bachelors             13   \n",
        "\n",
        "        marital-status          occupation    relationship    race      sex  \\\n",
        "0        Never-married        Adm-clerical   Not-in-family   White     Male   \n",
        "1   Married-civ-spouse     Exec-managerial         Husband   White     Male   \n",
        "2             Divorced   Handlers-cleaners   Not-in-family   White     Male   \n",
        "3   Married-civ-spouse   Handlers-cleaners         Husband   Black     Male   \n",
        "4   Married-civ-spouse      Prof-specialty            Wife   Black   Female   \n",
        "\n",
        "   capital-gain  capital-loss  hours-per-week  native_country    >50k  \n",
        "0          2174             0              40   United-States   <=50K  \n",
        "1             0             0              13   United-States   <=50K  \n",
        "2             0             0              40   United-States   <=50K  \n",
        "3             0             0              40   United-States   <=50K  \n",
        "4             0             0              40            Cuba   <=50K  "
       ]
      }
     ],
     "prompt_number": 9
    },
    {
     "cell_type": "code",
     "collapsed": false,
     "input": [
      "binary_data = simutils.make_binary_df(data)\n",
      "print \"Data size: \" + str(binary_data.shape)\n",
      "binary_data.head(5)"
     ],
     "language": "python",
     "metadata": {},
     "outputs": [
      {
       "output_type": "stream",
       "stream": "stdout",
       "text": [
        "Data size: (48842, 108)\n"
       ]
      },
      {
       "html": [
        "<div style=\"max-height:1000px;max-width:1500px;overflow:auto;\">\n",
        "<table border=\"1\" class=\"dataframe\">\n",
        "  <thead>\n",
        "    <tr style=\"text-align: right;\">\n",
        "      <th></th>\n",
        "      <th>age</th>\n",
        "      <th>workclass_is_State-gov</th>\n",
        "      <th>workclass_is_Self-emp-not-inc</th>\n",
        "      <th>workclass_is_Private</th>\n",
        "      <th>workclass_is_Federal-gov</th>\n",
        "      <th>workclass_is_Local-gov</th>\n",
        "      <th>workclass_is_?</th>\n",
        "      <th>workclass_is_Self-emp-inc</th>\n",
        "      <th>workclass_is_Without-pay</th>\n",
        "      <th>workclass_is_Never-worked</th>\n",
        "      <th>...</th>\n",
        "      <th>native_country_is_Scotland</th>\n",
        "      <th>native_country_is_Trinadad&amp;Tobago</th>\n",
        "      <th>native_country_is_Greece</th>\n",
        "      <th>native_country_is_Nicaragua</th>\n",
        "      <th>native_country_is_Vietnam</th>\n",
        "      <th>native_country_is_Hong</th>\n",
        "      <th>native_country_is_Ireland</th>\n",
        "      <th>native_country_is_Hungary</th>\n",
        "      <th>native_country_is_Holand-Netherlands</th>\n",
        "      <th>&gt;50k</th>\n",
        "    </tr>\n",
        "  </thead>\n",
        "  <tbody>\n",
        "    <tr>\n",
        "      <th>0</th>\n",
        "      <td> 39</td>\n",
        "      <td> 1</td>\n",
        "      <td>-1</td>\n",
        "      <td>-1</td>\n",
        "      <td>-1</td>\n",
        "      <td>-1</td>\n",
        "      <td>-1</td>\n",
        "      <td>-1</td>\n",
        "      <td>-1</td>\n",
        "      <td>-1</td>\n",
        "      <td>...</td>\n",
        "      <td>-1</td>\n",
        "      <td>-1</td>\n",
        "      <td>-1</td>\n",
        "      <td>-1</td>\n",
        "      <td>-1</td>\n",
        "      <td>-1</td>\n",
        "      <td>-1</td>\n",
        "      <td>-1</td>\n",
        "      <td>-1</td>\n",
        "      <td>-1</td>\n",
        "    </tr>\n",
        "    <tr>\n",
        "      <th>1</th>\n",
        "      <td> 50</td>\n",
        "      <td>-1</td>\n",
        "      <td> 1</td>\n",
        "      <td>-1</td>\n",
        "      <td>-1</td>\n",
        "      <td>-1</td>\n",
        "      <td>-1</td>\n",
        "      <td>-1</td>\n",
        "      <td>-1</td>\n",
        "      <td>-1</td>\n",
        "      <td>...</td>\n",
        "      <td>-1</td>\n",
        "      <td>-1</td>\n",
        "      <td>-1</td>\n",
        "      <td>-1</td>\n",
        "      <td>-1</td>\n",
        "      <td>-1</td>\n",
        "      <td>-1</td>\n",
        "      <td>-1</td>\n",
        "      <td>-1</td>\n",
        "      <td>-1</td>\n",
        "    </tr>\n",
        "    <tr>\n",
        "      <th>2</th>\n",
        "      <td> 38</td>\n",
        "      <td>-1</td>\n",
        "      <td>-1</td>\n",
        "      <td> 1</td>\n",
        "      <td>-1</td>\n",
        "      <td>-1</td>\n",
        "      <td>-1</td>\n",
        "      <td>-1</td>\n",
        "      <td>-1</td>\n",
        "      <td>-1</td>\n",
        "      <td>...</td>\n",
        "      <td>-1</td>\n",
        "      <td>-1</td>\n",
        "      <td>-1</td>\n",
        "      <td>-1</td>\n",
        "      <td>-1</td>\n",
        "      <td>-1</td>\n",
        "      <td>-1</td>\n",
        "      <td>-1</td>\n",
        "      <td>-1</td>\n",
        "      <td>-1</td>\n",
        "    </tr>\n",
        "    <tr>\n",
        "      <th>3</th>\n",
        "      <td> 53</td>\n",
        "      <td>-1</td>\n",
        "      <td>-1</td>\n",
        "      <td> 1</td>\n",
        "      <td>-1</td>\n",
        "      <td>-1</td>\n",
        "      <td>-1</td>\n",
        "      <td>-1</td>\n",
        "      <td>-1</td>\n",
        "      <td>-1</td>\n",
        "      <td>...</td>\n",
        "      <td>-1</td>\n",
        "      <td>-1</td>\n",
        "      <td>-1</td>\n",
        "      <td>-1</td>\n",
        "      <td>-1</td>\n",
        "      <td>-1</td>\n",
        "      <td>-1</td>\n",
        "      <td>-1</td>\n",
        "      <td>-1</td>\n",
        "      <td>-1</td>\n",
        "    </tr>\n",
        "    <tr>\n",
        "      <th>4</th>\n",
        "      <td> 28</td>\n",
        "      <td>-1</td>\n",
        "      <td>-1</td>\n",
        "      <td> 1</td>\n",
        "      <td>-1</td>\n",
        "      <td>-1</td>\n",
        "      <td>-1</td>\n",
        "      <td>-1</td>\n",
        "      <td>-1</td>\n",
        "      <td>-1</td>\n",
        "      <td>...</td>\n",
        "      <td>-1</td>\n",
        "      <td>-1</td>\n",
        "      <td>-1</td>\n",
        "      <td>-1</td>\n",
        "      <td>-1</td>\n",
        "      <td>-1</td>\n",
        "      <td>-1</td>\n",
        "      <td>-1</td>\n",
        "      <td>-1</td>\n",
        "      <td>-1</td>\n",
        "    </tr>\n",
        "  </tbody>\n",
        "</table>\n",
        "<p>5 rows \u00d7 108 columns</p>\n",
        "</div>"
       ],
       "metadata": {},
       "output_type": "pyout",
       "prompt_number": 10,
       "text": [
        "   age  workclass_is_State-gov  workclass_is_Self-emp-not-inc  \\\n",
        "0   39                       1                             -1   \n",
        "1   50                      -1                              1   \n",
        "2   38                      -1                             -1   \n",
        "3   53                      -1                             -1   \n",
        "4   28                      -1                             -1   \n",
        "\n",
        "   workclass_is_Private  workclass_is_Federal-gov  workclass_is_Local-gov  \\\n",
        "0                    -1                        -1                      -1   \n",
        "1                    -1                        -1                      -1   \n",
        "2                     1                        -1                      -1   \n",
        "3                     1                        -1                      -1   \n",
        "4                     1                        -1                      -1   \n",
        "\n",
        "   workclass_is_?  workclass_is_Self-emp-inc  workclass_is_Without-pay  \\\n",
        "0              -1                         -1                        -1   \n",
        "1              -1                         -1                        -1   \n",
        "2              -1                         -1                        -1   \n",
        "3              -1                         -1                        -1   \n",
        "4              -1                         -1                        -1   \n",
        "\n",
        "   workclass_is_Never-worked            ...              \\\n",
        "0                         -1            ...               \n",
        "1                         -1            ...               \n",
        "2                         -1            ...               \n",
        "3                         -1            ...               \n",
        "4                         -1            ...               \n",
        "\n",
        "   native_country_is_Scotland  native_country_is_Trinadad&Tobago  \\\n",
        "0                          -1                                 -1   \n",
        "1                          -1                                 -1   \n",
        "2                          -1                                 -1   \n",
        "3                          -1                                 -1   \n",
        "4                          -1                                 -1   \n",
        "\n",
        "   native_country_is_Greece  native_country_is_Nicaragua  \\\n",
        "0                        -1                           -1   \n",
        "1                        -1                           -1   \n",
        "2                        -1                           -1   \n",
        "3                        -1                           -1   \n",
        "4                        -1                           -1   \n",
        "\n",
        "   native_country_is_Vietnam  native_country_is_Hong  \\\n",
        "0                         -1                      -1   \n",
        "1                         -1                      -1   \n",
        "2                         -1                      -1   \n",
        "3                         -1                      -1   \n",
        "4                         -1                      -1   \n",
        "\n",
        "   native_country_is_Ireland  native_country_is_Hungary  \\\n",
        "0                         -1                         -1   \n",
        "1                         -1                         -1   \n",
        "2                         -1                         -1   \n",
        "3                         -1                         -1   \n",
        "4                         -1                         -1   \n",
        "\n",
        "   native_country_is_Holand-Netherlands  >50k  \n",
        "0                                    -1    -1  \n",
        "1                                    -1    -1  \n",
        "2                                    -1    -1  \n",
        "3                                    -1    -1  \n",
        "4                                    -1    -1  \n",
        "\n",
        "[5 rows x 108 columns]"
       ]
      }
     ],
     "prompt_number": 10
    },
    {
     "cell_type": "code",
     "collapsed": false,
     "input": [
      "X = binary_data.drop(\">50k\", axis=1).as_matrix()\n",
      "Y = binary_data[\">50k\"].as_matrix()\n",
      "n, p = X.shape\n",
      "print \"n: \" + str(n)\n",
      "print \"p: \" + str(p)\n",
      "assert(size(Y) == n) "
     ],
     "language": "python",
     "metadata": {},
     "outputs": [
      {
       "output_type": "stream",
       "stream": "stdout",
       "text": [
        "n: 48842\n",
        "p: 107\n"
       ]
      }
     ],
     "prompt_number": 11
    },
    {
     "cell_type": "code",
     "collapsed": false,
     "input": [
      "trials = 5\n",
      "cluster_sizes = np.array([2,4,8,16,32,64,128,256])\n",
      "test_prop = 0.2\n",
      "\n",
      "testSize = int(test_prop * n)\n",
      "indices = np.arange(n)\n",
      "\n",
      "globalModelScores = np.zeros(trials)\n",
      "globalModels = np.zeros((trials, p+1))\n",
      "localModelScores = np.zeros((trials, size(cluster_sizes)))\n",
      "meanModelScores = np.zeros((trials, size(cluster_sizes)))\n",
      "modelVariance = np.zeros((trials, size(cluster_sizes)))\n",
      "\n",
      "\n",
      "for t in range(0, trials):\n",
      "    print \"Starting trial: \" + str(t)\n",
      "    # Randomly create training and test split\n",
      "    shuffle(indices)\n",
      "    Xtest = X[indices[:testSize],:]\n",
      "    Ytest = Y[indices[:testSize]]\n",
      "    Xtrain = X[indices[testSize:],:]\n",
      "    Ytrain = Y[indices[testSize:]]\n",
      "\n",
      "    # Train a global model on all the data\n",
      "    globalModel = linear_model.LogisticRegression()\n",
      "    globalModel.fit(Xtrain, Ytrain)\n",
      "    globalModelScores[t] = globalModel.score(Xtest, Ytest)\n",
      "    globalModels[t,:] = np.append(globalModel.coef_.flatten(), globalModel.intercept_)\n",
      "    \n",
      "    # Train local models on each machine\n",
      "    for m in range(0, size(cluster_sizes)):\n",
      "        num_machines = cluster_sizes[m]\n",
      "        split_Xtrain = np.array_split(Xtrain, num_machines)\n",
      "        split_Ytrain = np.array_split(Ytrain, num_machines)\n",
      "        # Allocate arrays to store local model info\n",
      "        coeffs = np.zeros((num_machines, p+1))\n",
      "        scores = np.zeros(num_machines)\n",
      "        \n",
      "        # Train local models\n",
      "        for i in range(0, num_machines):\n",
      "            localModel = linear_model.LogisticRegression()\n",
      "            localModel.fit(split_Xtrain[i], split_Ytrain[i])\n",
      "            scores[i] = localModel.score(Xtest, Ytest)\n",
      "            coeffs[i, :] = np.append(localModel.coef_.flatten(), localModel.intercept_)\n",
      "        \n",
      "        # Compute cluster statistics\n",
      "        localModelScores[t,m] = np.mean(scores)\n",
      "        modelVariance[t,m] = np.mean(np.square(coeffs - globalModels[t,:]))\n",
      "        \n",
      "        # Super hack to try and estimate the score of the model obtained by averaging the models\n",
      "        avgCoeff = np.array([np.mean(coeffs, axis=0)])\n",
      "        meanModel = linear_model.LogisticRegression()\n",
      "        # Need to first train the model to set extra class variables\n",
      "        meanModel.fit(split_Xtrain[0], split_Ytrain[0])\n",
      "        # swap out the model parameters with mean parameters\n",
      "        meanModel.coef_ = avgCoeff[:, :-1]\n",
      "        meanModel.intercept_ = avgCoeff[:,-1]\n",
      "        meanModelScores[t,m] = meanModel.score(Xtest, Ytest)\n",
      "\n",
      "        \n",
      "        "
     ],
     "language": "python",
     "metadata": {},
     "outputs": [
      {
       "output_type": "stream",
       "stream": "stdout",
       "text": [
        "Starting trial: 0\n",
        "Starting trial: 1"
       ]
      },
      {
       "output_type": "stream",
       "stream": "stdout",
       "text": [
        "\n",
        "Starting trial: 2"
       ]
      },
      {
       "output_type": "stream",
       "stream": "stdout",
       "text": [
        "\n",
        "Starting trial: 3"
       ]
      },
      {
       "output_type": "stream",
       "stream": "stdout",
       "text": [
        "\n",
        "Starting trial: 4"
       ]
      },
      {
       "output_type": "stream",
       "stream": "stdout",
       "text": [
        "\n"
       ]
      }
     ],
     "prompt_number": 12
    },
    {
     "cell_type": "code",
     "collapsed": false,
     "input": [
      "np.mean((Y +2.0)/2.0)"
     ],
     "language": "python",
     "metadata": {},
     "outputs": [
      {
       "metadata": {},
       "output_type": "pyout",
       "prompt_number": 13,
       "text": [
        "0.73928176569346049"
       ]
      }
     ],
     "prompt_number": 13
    },
    {
     "cell_type": "code",
     "collapsed": false,
     "input": [
      "print \"Global Bias: \" + str(np.mean((Y +2.0)/2.0))\n",
      "print \"Global Accuracy: \" + str( np.mean(globalModelScores))\n",
      "plot(cluster_sizes, np.mean(localModelScores, axis=0) / np.mean(globalModelScores))\n",
      "plot(cluster_sizes, np.mean(meanModelScores, axis=0) / np.mean(globalModelScores))\n",
      "legend([\"local\", \"Mean Model\"])"
     ],
     "language": "python",
     "metadata": {},
     "outputs": [
      {
       "output_type": "stream",
       "stream": "stdout",
       "text": [
        "Global Bias: 0.739281765693\n",
        "Global Accuracy: 0.799385749386\n"
       ]
      },
      {
       "metadata": {},
       "output_type": "pyout",
       "prompt_number": 14,
       "text": [
        "<matplotlib.legend.Legend at 0x10eed3750>"
       ]
      },
      {
       "metadata": {},
       "output_type": "display_data",
       "png": "[encoded data removed]",
       "text": [
        "<matplotlib.figure.Figure at 0x10cf1e050>"
       ]
      }
     ],
     "prompt_number": 14
    },
    {
     "cell_type": "code",
     "collapsed": false,
     "input": [
      "plot(cluster_sizes, np.mean(localModelScores, axis=0))\n",
      "plot(cluster_sizes, np.mean(meanModelScores, axis=0))\n",
      "legend([\"local\", \"Mean Model\"])"
     ],
     "language": "python",
     "metadata": {},
     "outputs": [
      {
       "metadata": {},
       "output_type": "pyout",
       "prompt_number": 15,
       "text": [
        "<matplotlib.legend.Legend at 0x111a273d0>"
       ]
      },
      {
       "metadata": {},
       "output_type": "display_data",
       "png": "[encoded data removed]",
       "text": [
        "<matplotlib.figure.Figure at 0x10c7adc50>"
       ]
      }
     ],
     "prompt_number": 15
    },
    {
     "cell_type": "markdown",
     "metadata": {},
     "source": [
      "---"
     ]
    },
    {
     "cell_type": "heading",
     "level": 2,
     "metadata": {},
     "source": [
      "RCV1 Data used by Hogwild"
     ]
    },
    {
     "cell_type": "code",
     "collapsed": false,
     "input": [
      "simutils.get_dataset(\"http://www.ai.mit.edu/projects/jmlr/papers/volume5/lewis04a/a13-vector-files/lyrl2004_vectors_train.dat.gz\", \"rcv1_train\")\n",
      "simutils.get_dataset(\"http://www.ai.mit.edu/projects/jmlr/papers/volume5/lewis04a/a13-vector-files/lyrl2004_vectors_test_pt0.dat.gz\", \"rcv1_test0\")\n",
      "simutils.get_dataset(\"http://www.ai.mit.edu/projects/jmlr/papers/volume5/lewis04a/a13-vector-files/lyrl2004_vectors_test_pt1.dat.gz\", \"rcv1_test1\")\n",
      "simutils.get_dataset(\"http://www.ai.mit.edu/projects/jmlr/papers/volume5/lewis04a/a13-vector-files/lyrl2004_vectors_test_pt2.dat.gz\", \"rcv1_test2\")\n",
      "simutils.get_dataset(\"http://www.ai.mit.edu/projects/jmlr/papers/volume5/lewis04a/a13-vector-files/lyrl2004_vectors_test_pt3.dat.gz\", \"rcv1_test3\")\n",
      "simutils.get_dataset(\"http://www.ai.mit.edu/projects/jmlr/papers/volume5/lewis04a/a08-topic-qrels/rcv1-v2.topics.qrels.gz\", \"rcv1_categories\")"
     ],
     "language": "python",
     "metadata": {},
     "outputs": [
      {
       "output_type": "stream",
       "stream": "stdout",
       "text": [
        "Downloading lyrl2004_vectors_train.dat.gz\n",
        "Downloading lyrl2004_vectors_test_pt0.dat.gz"
       ]
      },
      {
       "output_type": "stream",
       "stream": "stdout",
       "text": [
        "\n",
        "Downloading lyrl2004_vectors_test_pt1.dat.gz"
       ]
      },
      {
       "output_type": "stream",
       "stream": "stdout",
       "text": [
        "\n",
        "Downloading lyrl2004_vectors_test_pt2.dat.gz"
       ]
      },
      {
       "output_type": "stream",
       "stream": "stdout",
       "text": [
        "\n",
        "Downloading lyrl2004_vectors_test_pt3.dat.gz"
       ]
      },
      {
       "output_type": "stream",
       "stream": "stdout",
       "text": [
        "\n",
        "Downloading rcv1-v2.topics.qrels.gz"
       ]
      },
      {
       "output_type": "stream",
       "stream": "stdout",
       "text": [
        "\n"
       ]
      }
     ],
     "prompt_number": 16
    },
    {
     "cell_type": "code",
     "collapsed": false,
     "input": [
      "# Load the categories\n",
      "#did2cat = -np.ones(900000, dtype=int)\n",
      "did2cat = {}\n",
      "cat_ids = {}\n",
      "with open(simutils.data_dir + \"rcv1_categories\") as f:\n",
      "    for line in f:\n",
      "        [cat, did, _] = line.split(\" \")\n",
      "        if cat not in cat_ids:\n",
      "            new_id = len(cat_ids)\n",
      "            cat_ids[cat] = new_id\n",
      "        cat_id = cat_ids[cat]\n",
      "        did = int(did)\n",
      "        did2cat[did] = cat_id\n",
      "\n",
      "print \"Categories: \" + str(cat_ids)\n",
      "print \"Documents: \" + str(sum([1 for cid in did2cat if cid >= 0]))\n",
      "print \"CCAT Docs: \" + str(sum([1 for cid in did2cat if cid >= cat_ids[\"CCAT\"]]))"
     ],
     "language": "python",
     "metadata": {},
     "outputs": [
      {
       "output_type": "stream",
       "stream": "stdout",
       "text": [
        "Categories: {'GTOUR': 86, 'E121': 39, 'C34': 61, 'E71': 59, 'C31': 21, 'E143': 78, 'C33': 43, 'C32': 38, 'C152': 35, 'C151': 7, 'C311': 45, 'C313': 57, 'C312': 46, 'GREL': 84, 'GSCI': 90, 'C22': 13, 'C23': 81, 'C21': 36, 'C24': 5, 'GMIL': 102, 'CCAT': 6, 'E61': 96, 'GJOB': 11, 'E411': 70, 'G159': 98, 'G158': 32, 'G157': 67, 'G156': 100, 'G155': 65, 'G154': 64, 'G153': 92, 'G152': 68, 'G151': 82, 'C181': 25, 'C182': 73, 'C183': 58, 'GPOL': 27, 'E51': 30, 'GCRIM': 19, 'M132': 15, 'M131': 24, 'C171': 66, 'E142': 42, 'C173': 76, 'C172': 62, 'C174': 50, 'GDIS': 71, 'GDIP': 33, 'E141': 95, 'E41': 9, 'C41': 56, 'C42': 22, 'GSPO': 69, 'E313': 97, 'E312': 101, 'E311': 94, 'E132': 89, 'E131': 40, 'GHEA': 75, 'ECAT': 1, 'E31': 93, 'GVIO': 49, 'E21': 48, 'GWELF': 85, 'GVOTE': 34, 'MCAT': 4, 'GCAT': 10, 'G15': 31, 'E212': 51, 'E211': 47, 'M11': 2, 'M13': 16, 'M12': 3, 'M14': 14, 'GPRO': 87, 'E11': 0, 'E13': 41, 'E12': 23, 'GWEA': 80, 'E14': 17, 'C18': 26, 'GOBIT': 91, 'C13': 20, 'C12': 18, 'C11': 12, 'C17': 44, 'C16': 63, 'C15': 8, 'C14': 54, 'GDEF': 79, 'C331': 72, 'E511': 77, 'E513': 88, 'E512': 29, 'GODD': 83, 'GFAS': 99, 'C1511': 53, 'M142': 37, 'M143': 28, 'M141': 60, 'C411': 55, 'GENV': 74, 'GENT': 52}\n",
        "Documents: 804414"
       ]
      },
      {
       "output_type": "stream",
       "stream": "stdout",
       "text": [
        "\n",
        "CCAT Docs: 804414"
       ]
      },
      {
       "output_type": "stream",
       "stream": "stdout",
       "text": [
        "\n"
       ]
      }
     ],
     "prompt_number": 17
    },
    {
     "cell_type": "code",
     "collapsed": false,
     "input": [
      "# Load the sparse training data:\n",
      "def parse_line(parts = line.split(\" \")):\n",
      "    did = int(parts[0])\n",
      "    nwords = len(parts[2:])\n",
      "    word_ids = np.zeros(nwords, dtype=int)\n",
      "    weights = np.zeros(nwords)\n",
      "    for (i, word_pair) in enumerate(parts[2:]):\n",
      "        word_id, w = word_pair.split(\":\")\n",
      "        word_ids[i] = int(word_id)\n",
      "        weights[i] = float(w)\n",
      "        record = (did, word_ids, weights) \n",
      "    return (record, len(word_ids))\n",
      "\n",
      "datafiles = [\"rcv1_train\"] + [\"rcv1_test\" + str(x) for x in range(0,4)] \n",
      "#datafiles = [\"rcv1_train\"]\n",
      "datafiles = datafiles[:2]\n",
      "\n",
      "doc_ids = np.zeros(0, dtype=int)\n",
      "word_ids = np.zeros(0, dtype=int)\n",
      "weights = np.zeros(0)\n",
      "\n",
      "for filename in datafiles:\n",
      "    print \"Processing file: \" + filename\n",
      "    file_data = []\n",
      "    nItems = 0\n",
      "    with open(simutils.data_dir + filename) as f:\n",
      "        for line in f:\n",
      "            parts = line.split(\" \")\n",
      "            if len(parts) > 3:\n",
      "                record, lineItems = parse_line(parts)\n",
      "                nItems += lineItems\n",
      "                file_data.append(record)\n",
      "                \n",
      "    # Fill out the column records \n",
      "    i = len(doc_ids)\n",
      "    doc_ids = np.append(doc_ids, np.zeros(nItems, dtype=int))\n",
      "    word_ids = np.append(word_ids, np.zeros(nItems, dtype=int))\n",
      "    weights = np.append(weights, np.zeros(nItems))\n",
      "    for line_did, line_word_ids, line_weights in file_data:\n",
      "        for t,w in zip(line_word_ids, line_weights):\n",
      "            doc_ids[i] = line_did\n",
      "            word_ids[i] = t\n",
      "            weights[i] = w\n",
      "            i += 1"
     ],
     "language": "python",
     "metadata": {},
     "outputs": [
      {
       "output_type": "stream",
       "stream": "stdout",
       "text": [
        "Processing file: rcv1_train\n",
        "Processing file: rcv1_test0"
       ]
      },
      {
       "output_type": "stream",
       "stream": "stdout",
       "text": [
        "\n"
       ]
      }
     ],
     "prompt_number": 18
    },
    {
     "cell_type": "code",
     "collapsed": false,
     "input": [
      "# Renumber the doc ids and word ids\n",
      "def enumerate_unique(ar):\n",
      "    unique_v = {}\n",
      "    for i in range(0, len(ar)):\n",
      "        old_v = ar[i]\n",
      "        if old_v not in unique_v:\n",
      "            new_v = len(unique_v)\n",
      "            unique_v[old_v] = new_v\n",
      "        new_v = unique_v[old_v]\n",
      "        ar[i] = new_v\n",
      "    return unique_v\n",
      "docmap = enumerate_unique(doc_ids)\n",
      "tokmap = enumerate_unique(word_ids)"
     ],
     "language": "python",
     "metadata": {},
     "outputs": [],
     "prompt_number": 19
    },
    {
     "cell_type": "code",
     "collapsed": false,
     "input": [
      "nWords = max(word_ids)+1\n",
      "nDocs = max(doc_ids)+1\n",
      "nNZS = len(doc_ids)\n",
      "n = nDocs\n",
      "p = nWords\n",
      "print \"NTokens:  \" + str(nWords)\n",
      "print \"NDocs:    \" + str(nDocs)\n",
      "print \"nNZS:     \" + str(nNZS)"
     ],
     "language": "python",
     "metadata": {},
     "outputs": [
      {
       "output_type": "stream",
       "stream": "stdout",
       "text": [
        "NTokens:  47210\n",
        "NDocs:    222477\n",
        "nNZS:     16776947\n"
       ]
      }
     ],
     "prompt_number": 39
    },
    {
     "cell_type": "code",
     "collapsed": false,
     "input": [
      "#allocate the sparse training matrix \n",
      "X = csr_matrix((weights, np.array([doc_ids, word_ids])), shape = (nDocs, nWords))\n",
      "Y = np.zeros(nDocs)\n",
      "revdocmap = {v:k for k, v in docmap.iteritems()}\n",
      "ccat_id = cat_ids[\"CCAT\"]\n",
      "for i in range(0, nDocs):\n",
      "    Y[i] = (did2cat[revdocmap[i]] == ccat_id) \n",
      "Y = 2.0 * Y - 1.0"
     ],
     "language": "python",
     "metadata": {},
     "outputs": [],
     "prompt_number": 21
    },
    {
     "cell_type": "markdown",
     "metadata": {},
     "source": [
      "Test a few modesl on the data"
     ]
    },
    {
     "cell_type": "code",
     "collapsed": false,
     "input": [
      "# Split into train and test\n",
      "test_prop = 0.2\n",
      "testSize = int(test_prop * n)\n",
      "indices = np.arange(n)\n",
      "\n",
      "# Randomly create training and test split\n",
      "shuffle(indices)\n",
      "Xtest = X[indices[:testSize],:]\n",
      "Ytest = Y[indices[:testSize]]\n",
      "Xtrain = X[indices[testSize:],:]\n",
      "Ytrain = Y[indices[testSize:]]"
     ],
     "language": "python",
     "metadata": {},
     "outputs": [],
     "prompt_number": 22
    },
    {
     "cell_type": "code",
     "collapsed": false,
     "input": [
      "cvalues = linspace(.5, 3, 20)\n",
      "score = np.zeros(size(cvalues))\n",
      "for i in range(0, size(cvalues)):\n",
      "    globalSVM = svm.LinearSVC(loss='l1', C=cvalues[i])\n",
      "    globalSVM.fit(Xtrain, Ytrain)\n",
      "    score[i] = globalSVM.score(Xtest, Ytest)\n",
      "plot(cvalues, score)"
     ],
     "language": "python",
     "metadata": {},
     "outputs": [
      {
       "metadata": {},
       "output_type": "pyout",
       "prompt_number": 78,
       "text": [
        "[<matplotlib.lines.Line2D at 0x116389a10>]"
       ]
      },
      {
       "metadata": {},
       "output_type": "display_data",
       "png": "[encoded data removed]",
       "text": [
        "<matplotlib.figure.Figure at 0x111525750>"
       ]
      }
     ],
     "prompt_number": 78
    },
    {
     "cell_type": "code",
     "collapsed": false,
     "input": [
      "# Run SVM (just to get a sense as to how it should perform)\n",
      "globalSVM = svm.LinearSVC(loss='l1', C=1.5)\n",
      "globalSVM.fit(Xtrain, Ytrain)\n",
      "globalLogistic = linear_model.LogisticRegression()\n",
      "globalLogistic.fit(Xtrain, Ytrain)\n",
      "print \"SVM score:      \" + str(globalSVM.score(Xtest, Ytest))\n",
      "print \"Logistic Score: \" + str(globalLogistic.score(Xtest, Ytest))\n",
      "print \"Naive Score:    \" + str(mean((Ytest + 2.)/2.)) "
     ],
     "language": "python",
     "metadata": {},
     "outputs": [
      {
       "output_type": "stream",
       "stream": "stdout",
       "text": [
        "SVM score:      0.955590515788\n",
        "Logistic Score: 0.952444094842\n",
        "Naive Score:    0.883009326891\n"
       ]
      }
     ],
     "prompt_number": 79
    },
    {
     "cell_type": "code",
     "collapsed": false,
     "input": [
      "trials = 5\n",
      "cluster_sizes = np.array([2,4,8,16,32,64,128,256])\n",
      "test_prop = 0.2\n",
      "\n",
      "testSize = int(test_prop * n)\n",
      "indices = np.arange(n)\n",
      "\n",
      "globalModelScores = np.zeros(trials)\n",
      "globalModels = np.zeros((trials, p+1))\n",
      "localModelScores = np.zeros((trials, size(cluster_sizes)))\n",
      "meanModelScores = np.zeros((trials, size(cluster_sizes)))\n",
      "modelVariance = np.zeros((trials, size(cluster_sizes)))\n",
      "\n",
      "\n",
      "for t in range(0, trials):\n",
      "    print \"Starting trial: \" + str(t)\n",
      "    # Randomly create training and test split\n",
      "    shuffle(indices)\n",
      "    Xtest = X[indices[:testSize],:]\n",
      "    Ytest = Y[indices[:testSize]]\n",
      "    Xtrain = X[indices[testSize:],:]\n",
      "    Ytrain = Y[indices[testSize:]]\n",
      "\n",
      "    # Train a global model on all the data\n",
      "    globalModel = svm.LinearSVC(loss='l1', C=1.5)\n",
      "    globalModel.fit(Xtrain, Ytrain)\n",
      "    globalModelScores[t] = globalModel.score(Xtest, Ytest)\n",
      "    globalModels[t,:] = np.append(globalModel.coef_.flatten(), globalModel.intercept_)\n",
      "    \n",
      "    # Train local models on each machine\n",
      "    for m in range(0, size(cluster_sizes)):\n",
      "        num_machines = cluster_sizes[m]\n",
      "        split_indices = np.array_split(range(0, Xtrain.shape[0]), num_machines)\n",
      "        split_Xtrain = [Xtrain[ind,:] for ind in split_indices]\n",
      "        split_Ytrain = [Ytrain[ind] for ind in split_indices]\n",
      "        # Allocate arrays to store local model info\n",
      "        coeffs = np.zeros((num_machines, p+1))\n",
      "        scores = np.zeros(num_machines)\n",
      "        \n",
      "        # Train local models\n",
      "        for i in range(0, num_machines):\n",
      "            localModel = svm.LinearSVC(loss='l1', C=1.5)\n",
      "            localModel.fit(split_Xtrain[i], split_Ytrain[i])\n",
      "            scores[i] = localModel.score(Xtest, Ytest)\n",
      "            coeffs[i, :] = np.append(localModel.coef_.flatten(), localModel.intercept_)\n",
      "        \n",
      "        # Compute cluster statistics\n",
      "        localModelScores[t,m] = np.mean(scores)\n",
      "        modelVariance[t,m] = np.mean(np.square(coeffs - globalModels[t,:]))\n",
      "        \n",
      "        # Super hack to try and estimate the score of the model obtained by averaging the models\n",
      "        avgCoeff = np.array([np.mean(coeffs, axis=0)])\n",
      "        meanModel = linear_model.LogisticRegression()\n",
      "        # Need to first train the model to set extra class variables\n",
      "        meanModel.fit(split_Xtrain[0], split_Ytrain[0])\n",
      "        # swap out the model parameters with mean parameters\n",
      "        meanModel.coef_ = avgCoeff[:, :-1]\n",
      "        meanModel.intercept_ = avgCoeff[:,-1]\n",
      "        meanModelScores[t,m] = meanModel.score(Xtest, Ytest)\n",
      "\n",
      "        \n",
      "        "
     ],
     "language": "python",
     "metadata": {},
     "outputs": [
      {
       "output_type": "stream",
       "stream": "stdout",
       "text": [
        "Starting trial: 0\n",
        "Starting trial: 1"
       ]
      },
      {
       "output_type": "stream",
       "stream": "stdout",
       "text": [
        "\n",
        "Starting trial: 2"
       ]
      },
      {
       "output_type": "stream",
       "stream": "stdout",
       "text": [
        "\n",
        "Starting trial: 3"
       ]
      },
      {
       "output_type": "stream",
       "stream": "stdout",
       "text": [
        "\n",
        "Starting trial: 4"
       ]
      },
      {
       "output_type": "stream",
       "stream": "stdout",
       "text": [
        "\n"
       ]
      }
     ],
     "prompt_number": 80
    },
    {
     "cell_type": "code",
     "collapsed": false,
     "input": [
      "print \"Global Bias: \" + str(np.mean((Y +2.0)/2.0))\n",
      "print \"Global Accuracy: \" + str( np.mean(globalModelScores))\n",
      "plot(cluster_sizes, np.mean(localModelScores, axis=0) / np.mean(globalModelScores))\n",
      "plot(cluster_sizes, np.mean(meanModelScores, axis=0) / np.mean(globalModelScores))\n",
      "legend([\"local\", \"Mean Model\"])"
     ],
     "language": "python",
     "metadata": {},
     "outputs": [
      {
       "output_type": "stream",
       "stream": "stdout",
       "text": [
        "Global Bias: 0.88521734831\n",
        "Global Accuracy: 0.954754466794\n"
       ]
      },
      {
       "metadata": {},
       "output_type": "pyout",
       "prompt_number": 128,
       "text": [
        "<matplotlib.legend.Legend at 0x113926890>"
       ]
      },
      {
       "metadata": {},
       "output_type": "display_data",
       "png": "[encoded data removed]",
       "text": [
        "<matplotlib.figure.Figure at 0x113969c10>"
       ]
      }
     ],
     "prompt_number": 128
    },
    {
     "cell_type": "code",
     "collapsed": false,
     "input": [
      "plot(cluster_sizes, np.mean(localModelScores, axis=0))\n",
      "plot(cluster_sizes, np.mean(meanModelScores, axis=0))\n",
      "legend([\"local\", \"Mean Model\"])"
     ],
     "language": "python",
     "metadata": {},
     "outputs": [
      {
       "metadata": {},
       "output_type": "pyout",
       "prompt_number": 82,
       "text": [
        "<matplotlib.legend.Legend at 0x1162d8650>"
       ]
      },
      {
       "metadata": {},
       "output_type": "display_data",
       "png": "[encoded data removed]",
       "text": [
        "<matplotlib.figure.Figure at 0x11196a7d0>"
       ]
      }
     ],
     "prompt_number": 82
    },
    {
     "cell_type": "code",
     "collapsed": false,
     "input": [
      "trials = 5\n",
      "cluster_sizes = np.array([2,4,8,16,32,64,128,256])\n",
      "test_prop = 0.2\n",
      "\n",
      "testSize = int(test_prop * n)\n",
      "indices = np.arange(n)\n",
      "\n",
      "globalModelScores = np.zeros(trials)\n",
      "globalModels = np.zeros((trials, p+1))\n",
      "localModelScores = np.zeros((trials, size(cluster_sizes)))\n",
      "meanModelScores = np.zeros((trials, size(cluster_sizes)))\n",
      "modelVariance = np.zeros((trials, size(cluster_sizes)))\n",
      "\n",
      "\n",
      "for t in range(0, trials):\n",
      "    print \"Starting trial: \" + str(t)\n",
      "    # Randomly create training and test split\n",
      "    shuffle(indices)\n",
      "    Xtest = X[indices[:testSize],:]\n",
      "    Ytest = Y[indices[:testSize]]\n",
      "    Xtrain = X[indices[testSize:],:]\n",
      "    Ytrain = Y[indices[testSize:]]\n",
      "\n",
      "    # Train a global model on all the data\n",
      "    globalModel = svm.LinearSVC(loss='l1', C=1.5)\n",
      "    globalModel.fit(Xtrain, Ytrain)\n",
      "    globalModelScores[t] = globalModel.score(Xtest, Ytest)\n",
      "    globalModels[t,:] = np.append(globalModel.coef_.flatten(), globalModel.intercept_)\n",
      "    \n",
      "    # Train local models on each machine\n",
      "    for m in range(0, size(cluster_sizes)):\n",
      "        num_machines = cluster_sizes[m]\n",
      "        randvec = randn(p, 1)\n",
      "        ordered_indices = np.argsort([(Xtrain[i] * randvec)[0,0] for i in range(0, Xtrain.shape[0])])\n",
      "        split_indices = np.array_split(ordered_indices, num_machines)\n",
      "        split_Xtrain = [Xtrain[ind,:] for ind in split_indices]\n",
      "        split_Ytrain = [Ytrain[ind] for ind in split_indices]\n",
      "        # Allocate arrays to store local model info\n",
      "        coeffs = np.zeros((num_machines, p+1))\n",
      "        scores = np.zeros(num_machines)\n",
      "        \n",
      "        # Train local models\n",
      "        for i in range(0, num_machines):\n",
      "            localModel = svm.LinearSVC(loss='l1', C=1.5)\n",
      "            localModel.fit(split_Xtrain[i], split_Ytrain[i])\n",
      "            scores[i] = localModel.score(Xtest, Ytest)\n",
      "            coeffs[i, :] = np.append(localModel.coef_.flatten(), localModel.intercept_)\n",
      "        \n",
      "        # Compute cluster statistics\n",
      "        localModelScores[t,m] = np.mean(scores)\n",
      "        modelVariance[t,m] = np.mean(np.square(coeffs - globalModels[t,:]))\n",
      "        \n",
      "        # Super hack to try and estimate the score of the model obtained by averaging the models\n",
      "        avgCoeff = np.array([np.mean(coeffs, axis=0)])\n",
      "        meanModel = linear_model.LogisticRegression()\n",
      "        # Need to first train the model to set extra class variables\n",
      "        meanModel.fit(split_Xtrain[0], split_Ytrain[0])\n",
      "        # swap out the model parameters with mean parameters\n",
      "        meanModel.coef_ = avgCoeff[:, :-1]\n",
      "        meanModel.intercept_ = avgCoeff[:,-1]\n",
      "        meanModelScores[t,m] = meanModel.score(Xtest, Ytest)\n",
      "\n",
      "        \n",
      "        "
     ],
     "language": "python",
     "metadata": {},
     "outputs": [
      {
       "output_type": "stream",
       "stream": "stdout",
       "text": [
        "Starting trial: 0\n",
        "Starting trial: 1"
       ]
      },
      {
       "output_type": "stream",
       "stream": "stdout",
       "text": [
        "\n",
        "Starting trial: 2"
       ]
      },
      {
       "output_type": "stream",
       "stream": "stdout",
       "text": [
        "\n",
        "Starting trial: 3"
       ]
      },
      {
       "output_type": "stream",
       "stream": "stdout",
       "text": [
        "\n",
        "Starting trial: 4"
       ]
      },
      {
       "output_type": "stream",
       "stream": "stdout",
       "text": [
        "\n"
       ]
      }
     ],
     "prompt_number": 127
    },
    {
     "cell_type": "code",
     "collapsed": false,
     "input": [],
     "language": "python",
     "metadata": {},
     "outputs": []
    },
    {
     "cell_type": "code",
     "collapsed": false,
     "input": [
      "randvec = randn(p, 1)\n",
      "print randvec.shape\n",
      "print Xtrain[0].shape\n",
      "Xtrain[0] * randvec"
     ],
     "language": "python",
     "metadata": {},
     "outputs": [
      {
       "output_type": "stream",
       "stream": "stdout",
       "text": [
        "(47210, 1)\n",
        "(1, 47210)\n"
       ]
      },
      {
       "metadata": {},
       "output_type": "pyout",
       "prompt_number": 125,
       "text": [
        "array([[ 1.26707517]])"
       ]
      }
     ],
     "prompt_number": 125
    }
   ],
   "metadata": {}
  }
 ]
}